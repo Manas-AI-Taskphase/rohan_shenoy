{
 "cells": [
  {
   "cell_type": "code",
   "execution_count": 12,
   "id": "d387a378",
   "metadata": {},
   "outputs": [],
   "source": [
    "import pandas as pd\n",
    "from imblearn.over_sampling import SMOTE\n",
    "from sklearn.tree import DecisionTreeClassifier\n",
    "from sklearn.model_selection import train_test_split\n",
    "from sklearn.metrics import classification_report"
   ]
  },
  {
   "cell_type": "code",
   "execution_count": 13,
   "id": "2cbf9921",
   "metadata": {},
   "outputs": [],
   "source": [
    "#using synthetic minority oversampling technique to perform oversampling on data to address class imbalance \n",
    "#this is done to increase the representation of the minority class by generating synthetic samples\n",
    "\n",
    "def dataprocessing(file):\n",
    "    data = pd.read_csv(file)\n",
    "    targets = data['Threat']\n",
    "    attributes = data.drop('Threat', axis=1)\n",
    "\n",
    "    smote = SMOTE()\n",
    "    attributes, targets = smote.fit_resample(attributes, targets)\n",
    "\n",
    "    train_attributes, test_attributes, train_targets, test_targets \\\n",
    "        = train_test_split(attributes, targets)\n",
    "\n",
    "    return train_attributes, test_attributes, train_targets, test_targets\n",
    "    "
   ]
  },
  {
   "cell_type": "code",
   "execution_count": 14,
   "id": "359a81f3",
   "metadata": {},
   "outputs": [],
   "source": [
    "#to instintiate a decision tree classifier from scikit-learn\n",
    "#Trains the classifier using the training data (features and labels)\n",
    "def modeltraining(train_attributes, train_targets):\n",
    "    classify = DecisionTreeClassifier()\n",
    "    classify.fit(train_attributes, train_targets)\n",
    "    return classify"
   ]
  },
  {
   "cell_type": "code",
   "execution_count": 15,
   "id": "fda67e28",
   "metadata": {},
   "outputs": [],
   "source": [
    "#Using the trained classifier to predict labels for the test data.\n",
    "#generating a classification report using the classification_report function from scikit-learn\n",
    "#comparing the predicted labels against the actual labels\n",
    "def modeltesting(test_attributes, test_targets, classify):\n",
    "    predictions = classify.predict(test_attributes)\n",
    "    report = classification_report(test_targets, predictions)\n",
    "    return report"
   ]
  },
  {
   "cell_type": "code",
   "execution_count": 16,
   "id": "89b0585f",
   "metadata": {},
   "outputs": [
    {
     "name": "stdout",
     "output_type": "stream",
     "text": [
      "              precision    recall  f1-score   support\n",
      "\n",
      "           0       1.00      0.99      0.99    249544\n",
      "           1       0.99      1.00      0.99    249502\n",
      "\n",
      "    accuracy                           0.99    499046\n",
      "   macro avg       0.99      0.99      0.99    499046\n",
      "weighted avg       0.99      0.99      0.99    499046\n",
      "\n"
     ]
    }
   ],
   "source": [
    "#it trains a decision tree classifier using the preprocessed training data\n",
    "if __name__ == \"__main__\":\n",
    "    train_x, test_x, train_y, test_y = dataprocessing(\"/Users/rohanshenoy/Downloads/threats.csv\")\n",
    "    #generating classification report\n",
    "    classification_model = modeltraining(train_x, train_y)\n",
    "    #Tests the trained classifier using the preprocessed test data\n",
    "    rep = modeltesting(test_x, test_y, classification_model)\n",
    "    #prints the classification report\n",
    "    print(rep)"
   ]
  }
 ],
 "metadata": {
  "kernelspec": {
   "display_name": "Python 3 (ipykernel)",
   "language": "python",
   "name": "python3"
  },
  "language_info": {
   "codemirror_mode": {
    "name": "ipython",
    "version": 3
   },
   "file_extension": ".py",
   "mimetype": "text/x-python",
   "name": "python",
   "nbconvert_exporter": "python",
   "pygments_lexer": "ipython3",
   "version": "3.11.5"
  }
 },
 "nbformat": 4,
 "nbformat_minor": 5
}
